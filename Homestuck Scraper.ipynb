{
 "cells": [
  {
   "cell_type": "code",
   "execution_count": null,
   "metadata": {},
   "outputs": [
    {
     "name": "stdout",
     "output_type": "stream",
     "text": [
      "Missed page due to failed request: 2399\n",
      "Missed page due to failed request: 3038\n",
      "Missed page due to failed request: 3088\n"
     ]
    }
   ],
   "source": [
    "'''Pester/Dialogue/etc log scraper for homestuck.com'''\n",
    "import csv\n",
    "import requests\n",
    "import re\n",
    "from bs4 import BeautifulSoup\n",
    "\n",
    "URL = 'https://www.homestuck.com/story/'\n",
    "\n",
    "def parse_page(content):\n",
    "    soup = BeautifulSoup(content)\n",
    "    samples = soup.find_all('p', 'o_chat-log')\n",
    "    if len(samples) < 1:\n",
    "        return None\n",
    "    messages = BeautifulSoup(f'<html>{samples[0]}</html>').find_all('span')\n",
    "    if len(messages) < 1:\n",
    "        return None\n",
    "    \n",
    "    output = []\n",
    "    for message in messages:\n",
    "        # This is a little lazy, but we're just going to drop any message with special formatting\n",
    "        if message.string is None:\n",
    "            continue\n",
    "        stripped = message.string.strip()\n",
    "        if ':' in stripped:\n",
    "            color = re.search(r'.*(#\\w{6})', message.attrs['style'])\n",
    "            handle = re.search(r'(.*): ', stripped)\n",
    "            message = re.search(r'.*: (.*)', stripped)\n",
    "            if color is not None and handle is not None and message is not None:\n",
    "                output.append((handle.group(1), color.group(1), message.group(1)))\n",
    "    return output\n",
    "\n",
    "for i in range(26, 8044): # Pages with logs: 26-8043\n",
    "    result = requests.get(URL + str(i))\n",
    "    if result.status_code == 200:\n",
    "        page_messages = parse_page(result.content)\n",
    "        if page_messages is not None and len(page_messages) > 0:\n",
    "            with open(f'{i}.csv', mode='w', newline='') as target:\n",
    "                fieldnames = ['handle', 'color', 'message']\n",
    "                writer = csv.DictWriter(target, fieldnames=fieldnames)\n",
    "                writer.writeheader()\n",
    "                for row in page_messages:\n",
    "                    writer.writerow({'handle': row[0], \n",
    "                                     'color': row[1], \n",
    "                                     'message': row[2]})\n",
    "    else:\n",
    "        print(f'Missed page due to failed request: {i}')"
   ]
  },
  {
   "cell_type": "code",
   "execution_count": null,
   "metadata": {},
   "outputs": [],
   "source": []
  }
 ],
 "metadata": {
  "kernelspec": {
   "display_name": "Python 3",
   "language": "python",
   "name": "python3"
  },
  "language_info": {
   "codemirror_mode": {
    "name": "ipython",
    "version": 3
   },
   "file_extension": ".py",
   "mimetype": "text/x-python",
   "name": "python",
   "nbconvert_exporter": "python",
   "pygments_lexer": "ipython3",
   "version": "3.7.4"
  }
 },
 "nbformat": 4,
 "nbformat_minor": 2
}
